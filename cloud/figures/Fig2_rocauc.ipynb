{
 "cells": [
  {
   "cell_type": "code",
   "execution_count": 33,
   "id": "b6e3b02b-7906-4846-b1e3-48217709a430",
   "metadata": {},
   "outputs": [],
   "source": [
    "import sys\n",
    "import h5py\n",
    "\n",
    "sys.path.append('../../makiper/BaselineModels/XGBoost')\n",
    "from xgb import make_xgb_model\n",
    "\n",
    "sys.path.append('../../makiper/BaselineModels/ResNet')\n",
    "from ResNet import make_model\n",
    "\n",
    "sys.path.append('../../run')\n",
    "from model import SimpleSeqClassifier\n",
    "\n",
    "import torch\n",
    "import torch.nn as nn\n",
    "from torch.utils.data import Dataset, DataLoader\n",
    "\n",
    "import numpy as np\n",
    "from sklearn.metrics import roc_auc_score, roc_curve\n",
    "from sklearn.metrics import classification_report\n",
    "\n",
    "from tqdm import tqdm\n",
    "\n",
    "import matplotlib.pyplot as plt"
   ]
  },
  {
   "cell_type": "code",
   "execution_count": 34,
   "id": "3a591acd-4f23-4876-9e62-b39a21c07318",
   "metadata": {},
   "outputs": [],
   "source": [
    "datasets = ['/scratch/jakelee/emit-cloud/cloud_datasets/lbox_1e4_v6.hdf5', '/scratch/jakelee/emit-cloud/cloud_datasets/mmgis_1e4_v6.hdf5']\n",
    "\n",
    "for i, dataset in enumerate(datasets):\n",
    "    if i == 0:\n",
    "        f = h5py.File(dataset, 'r')\n",
    "        labels = f['labels'][:]\n",
    "        fids = f['fids'][:]\n",
    "        spectra = f['spectra'][:]\n",
    "        bands = f.attrs['bands']\n",
    "    else:\n",
    "        f = h5py.File(dataset, 'r')\n",
    "        labels = np.concatenate((labels, f['labels'][:]))\n",
    "        fids = np.concatenate((fids, f['fids'][:]))\n",
    "        spectra = np.concatenate((spectra, f['spectra'][:]))\n",
    "\n",
    "device = torch.device(\"cpu\")\n",
    "\n",
    "with open('../v6_test.csv', 'r') as f:\n",
    "    test_fids = [line.strip() for line in f.readlines()]\n",
    "    test_fids = set(test_fids)\n",
    "# Only keep indices of fids that are in the test set\n",
    "test_i = [i for i, f in enumerate(fids) if f.decode('utf-8') in test_fids]\n",
    "\n",
    "test_X = spectra[test_i]\n",
    "test_y = labels[test_i]\n",
    "test_y[test_y==2] = 0"
   ]
  },
  {
   "cell_type": "code",
   "execution_count": 39,
   "id": "5975a632-fbb2-4fcb-bc9b-cf11dc2747a2",
   "metadata": {},
   "outputs": [
    {
     "name": "stdout",
     "output_type": "stream",
     "text": [
      "              precision    recall  f1-score   support\n",
      "\n",
      "           0      0.936     0.962     0.949    249648\n",
      "           1      0.961     0.934     0.947    246863\n",
      "\n",
      "    accuracy                          0.948    496511\n",
      "   macro avg      0.949     0.948     0.948    496511\n",
      "weighted avg      0.948     0.948     0.948    496511\n",
      "\n",
      "ROC AUC: 0.9867198948884356\n",
      "(3, 51914)\n"
     ]
    },
    {
     "data": {
      "image/png": "[encoded data removed]",
      "text/plain": [
       "<Figure size 640x480 with 1 Axes>"
      ]
     },
     "metadata": {},
     "output_type": "display_data"
    }
   ],
   "source": [
    "# XGBOOST\n",
    "\n",
    "model = make_xgb_model(\n",
    "    arch_yml = '/home/jakelee/cloud/emit-cloud-screening/makiper/BaselineModels/XGBoost/20241016/xgboost_arch_165.yml', \n",
    "    arch_subkeys = [\"architecture\"], # optional - tells the function where to start parsing the yaml file\n",
    "    weight_file = '/home/jakelee/cloud/emit-cloud-screening/makiper/BaselineModels/XGBoost/20241016/XGBoost-165-take1e4_v6_2024_10_15_21_03.json' # optional- loads in this xgboost model\n",
    ")\n",
    "\n",
    "pred_y = model.predict_proba(test_X)\n",
    "\n",
    "pred_y_binary = pred_y[:,1] >= 0.96\n",
    "\n",
    "print(classification_report(test_y, pred_y_binary, digits=3))\n",
    "\n",
    "print(\"ROC AUC:\", roc_auc_score(test_y, pred_y[:,1]))\n",
    "\n",
    "xgboost_auc = roc_curve(test_y, pred_y[:,1], pos_label=1)\n",
    "xgboost_auc = np.array(xgboost_auc)\n",
    "print(xgboost_auc.shape)\n",
    "plt.plot(xgboost_auc[0,:], xgboost_auc[1,:])\n",
    "np.save('xgboost_auc.npy', xgboost_auc)"
   ]
  },
  {
   "cell_type": "code",
   "execution_count": 41,
   "id": "86606777-90b8-4441-a928-f75ee794510f",
   "metadata": {},
   "outputs": [
    {
     "name": "stderr",
     "output_type": "stream",
     "text": [
      "100%|██████████| 485/485 [00:27<00:00, 17.48it/s]\n"
     ]
    },
    {
     "name": "stdout",
     "output_type": "stream",
     "text": [
      "(496511,) (496511,)\n",
      "              precision    recall  f1-score   support\n",
      "\n",
      "           0      0.945     0.971     0.958    249648\n",
      "           1      0.969     0.943     0.956    246863\n",
      "\n",
      "    accuracy                          0.957    496511\n",
      "   macro avg      0.957     0.957     0.957    496511\n",
      "weighted avg      0.957     0.957     0.957    496511\n",
      "\n",
      "ROC AUC: 0.9863013153963321\n"
     ]
    },
    {
     "data": {
      "image/png": "[encoded data removed]",
      "text/plain": [
       "<Figure size 640x480 with 1 Axes>"
      ]
     },
     "metadata": {},
     "output_type": "display_data"
    }
   ],
   "source": [
    "# ANN\n",
    "\n",
    "model = make_model(\n",
    "    arch_yml='/home/jakelee/cloud/emit-cloud-screening/makiper/BaselineModels/ResNet/20241016/resnet_arch_-P-1400-L-1.yml',\n",
    "    input_dim=268,\n",
    "    num_classes=2,\n",
    "    arch_subkeys=['architecture'], # this is optional - tells the funtion where to start parsing the yaml file\n",
    "    weight_file='/home/jakelee/cloud/emit-cloud-screening/makiper/BaselineModels/ResNet/20241016/ResNet-P-1400-L-1-2lk54l0k-take1e4_v6_2024_10_16_04_03.pt' # this is optional\n",
    ")\n",
    "\n",
    "class SpectraDataset(Dataset):\n",
    "    \"\"\"Pixelwise spectra dataset.\"\"\"\n",
    "\n",
    "    def __init__(self, spectra, labels, transform=None, device='cpu'):\n",
    "        super().__init__()\n",
    "        self.spectra = torch.tensor(spectra, dtype=torch.float32).to(device)\n",
    "\n",
    "        self.labels = torch.tensor(labels).to(device)\n",
    "        self.labels[self.labels==2] = 0 # shadow considered clear\n",
    "\n",
    "        self.transform = transform\n",
    "\n",
    "    def __len__(self):\n",
    "        return len(self.labels)\n",
    "\n",
    "    def __getitem__(self, idx):\n",
    "\n",
    "        out_spec = self.spectra[idx]\n",
    "        if self.transform is not None:\n",
    "            out_spec = self.transform(out_spec)\n",
    "        \n",
    "        return {\n",
    "            'spectra': torch.unsqueeze(out_spec, -1),\n",
    "            'label': self.labels[idx]\n",
    "        }\n",
    "\n",
    "test_dataset = SpectraDataset(test_X, test_y, transform=None, device=device)\n",
    "test_dataloader = DataLoader(test_dataset, batch_size=1024, shuffle=False)\n",
    "\n",
    "pred_y = []\n",
    "for idx, batch in enumerate(tqdm(test_dataloader, total=len(test_dataloader))):\n",
    "    spectra = batch['spectra'].to(device)\n",
    "    spectra = spectra[:,:,0]\n",
    "\n",
    "    with torch.no_grad():\n",
    "        pred = model(spectra)\n",
    "        proba = nn.functional.softmax(pred, dim=1)\n",
    "        pred_y += proba[:,1].cpu().detach().numpy().tolist()\n",
    "\n",
    "pred_y = np.array(pred_y)\n",
    "pred_y_binary = pred_y >= 0.98\n",
    "\n",
    "print(pred_y_binary.shape, test_y.shape)\n",
    "\n",
    "print(classification_report(test_y, pred_y_binary, digits=3))\n",
    "\n",
    "print(\"ROC AUC:\", roc_auc_score(test_y, pred_y))\n",
    "\n",
    "ann_auc = roc_curve(test_y, pred_y, pos_label=1)\n",
    "ann_auc = np.array(ann_auc)\n",
    "plt.plot(ann_auc[0,:], ann_auc[1,:])\n",
    "np.save('ann_auc.npy', ann_auc)"
   ]
  },
  {
   "cell_type": "code",
   "execution_count": 42,
   "id": "0a162766-be68-499e-aa6f-5cd942228d9b",
   "metadata": {},
   "outputs": [
    {
     "name": "stderr",
     "output_type": "stream",
     "text": [
      "100%|██████████| 485/485 [06:19<00:00,  1.28it/s]\n"
     ]
    },
    {
     "name": "stdout",
     "output_type": "stream",
     "text": [
      "(496511,) (496511,)\n",
      "              precision    recall  f1-score   support\n",
      "\n",
      "           0      0.945     0.962     0.953    249648\n",
      "           1      0.960     0.944     0.952    246863\n",
      "\n",
      "    accuracy                          0.953    496511\n",
      "   macro avg      0.953     0.953     0.953    496511\n",
      "weighted avg      0.953     0.953     0.953    496511\n",
      "\n",
      "ROC AUC: 0.9847948220797025\n"
     ]
    },
    {
     "data": {
      "image/png": "[encoded data removed]",
      "text/plain": [
       "<Figure size 640x480 with 1 Axes>"
      ]
     },
     "metadata": {},
     "output_type": "display_data"
    }
   ],
   "source": [
    "# SpecTF\n",
    "banddef = torch.tensor(bands, dtype=torch.float32).to(device)\n",
    "model = SimpleSeqClassifier(banddef,\n",
    "                            num_classes=2,\n",
    "                            num_heads=8,\n",
    "                            dim_proj=64,\n",
    "                            dim_ff=64,\n",
    "                            dropout=0).to(device)\n",
    "model.load_state_dict(torch.load('/home/jakelee/cloud/models/v6_m4.pt', map_location=device))\n",
    "\n",
    "test_dataset = SpectraDataset(test_X, test_y, transform=None, device=device)\n",
    "test_dataloader = DataLoader(test_dataset, batch_size=1024, shuffle=False)\n",
    "\n",
    "pred_y = []\n",
    "for idx, batch in enumerate(tqdm(test_dataloader, total=len(test_dataloader))):\n",
    "    spectra = batch['spectra'].to(device)\n",
    "\n",
    "    with torch.no_grad():\n",
    "        pred = model(spectra)\n",
    "        proba = nn.functional.softmax(pred, dim=1)\n",
    "        pred_y += proba[:,1].cpu().detach().numpy().tolist()\n",
    "\n",
    "pred_y = np.array(pred_y)\n",
    "pred_y_binary = pred_y >= 0.52\n",
    "\n",
    "print(pred_y_binary.shape, test_y.shape)\n",
    "\n",
    "print(classification_report(test_y, pred_y_binary, digits=3))\n",
    "\n",
    "print(\"ROC AUC:\", roc_auc_score(test_y, pred_y))\n",
    "\n",
    "tf_auc = roc_curve(test_y, pred_y, pos_label=1)\n",
    "tf_auc = np.array(tf_auc)\n",
    "plt.plot(tf_auc[0,:], tf_auc[1,:])\n",
    "np.save('tf_auc.npy', tf_auc)"
   ]
  },
  {
   "cell_type": "code",
   "execution_count": null,
   "id": "e8ef4d73-d1a6-4ec8-b4e6-c797aee2b2b3",
   "metadata": {},
   "outputs": [],
   "source": []
  }
 ],
 "metadata": {
  "kernelspec": {
   "display_name": "Python 3 (ipykernel)",
   "language": "python",
   "name": "python3"
  },
  "language_info": {
   "codemirror_mode": {
    "name": "ipython",
    "version": 3
   },
   "file_extension": ".py",
   "mimetype": "text/x-python",
   "name": "python",
   "nbconvert_exporter": "python",
   "pygments_lexer": "ipython3",
   "version": "3.10.13"
  }
 },
 "nbformat": 4,
 "nbformat_minor": 5
}
